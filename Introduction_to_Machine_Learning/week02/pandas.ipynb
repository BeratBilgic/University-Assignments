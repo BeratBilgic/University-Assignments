{
 "cells": [
  {
   "cell_type": "code",
   "execution_count": 6,
   "id": "9c948d9e-6bc2-4e54-9bf5-e09e8c8a9611",
   "metadata": {},
   "outputs": [
    {
     "name": "stdout",
     "output_type": "stream",
     "text": [
      "Requirement already satisfied: pandas in /opt/homebrew/Cellar/jupyterlab/4.1.4/libexec/lib/python3.12/site-packages (2.2.1)\n",
      "Requirement already satisfied: numpy<2,>=1.26.0 in /opt/homebrew/lib/python3.12/site-packages (from pandas) (1.26.4)\n",
      "Requirement already satisfied: python-dateutil>=2.8.2 in /opt/homebrew/Cellar/jupyterlab/4.1.4/libexec/lib/python3.12/site-packages (from pandas) (2.9.0.post0)\n",
      "Requirement already satisfied: pytz>=2020.1 in /opt/homebrew/Cellar/jupyterlab/4.1.4/libexec/lib/python3.12/site-packages (from pandas) (2024.1)\n",
      "Requirement already satisfied: tzdata>=2022.7 in /opt/homebrew/Cellar/jupyterlab/4.1.4/libexec/lib/python3.12/site-packages (from pandas) (2024.1)\n",
      "Requirement already satisfied: six>=1.5 in /opt/homebrew/Cellar/jupyterlab/4.1.4/libexec/lib/python3.12/site-packages (from python-dateutil>=2.8.2->pandas) (1.16.0)\n",
      "Note: you may need to restart the kernel to use updated packages.\n"
     ]
    }
   ],
   "source": [
    "pip install pandas"
   ]
  },
  {
   "cell_type": "code",
   "execution_count": 7,
   "id": "1f948cbf-1b85-4fe0-9780-0883e80072d6",
   "metadata": {},
   "outputs": [],
   "source": [
    "import numpy as np \n",
    "import pandas as pd"
   ]
  },
  {
   "cell_type": "code",
   "execution_count": 44,
   "id": "b69a8e6a-47d8-4d61-8aad-3449b1e0c7f3",
   "metadata": {},
   "outputs": [
    {
     "data": {
      "text/plain": [
       "(2, 3)"
      ]
     },
     "execution_count": 44,
     "metadata": {},
     "output_type": "execute_result"
    }
   ],
   "source": [
    "t = (1,2,3,4)\n",
    "t[1:3]"
   ]
  },
  {
   "cell_type": "code",
   "execution_count": 13,
   "id": "4fab0fbf-19da-47f9-a44c-acfd7a7c0686",
   "metadata": {},
   "outputs": [
    {
     "name": "stdout",
     "output_type": "stream",
     "text": [
      "{'name': ['ali', 'veli', 'zübeyde', 'ahmet', 'kubra', 'can'], 'age': [12, 34, 56, 78, None, 12], 'note': [123, 456, 78, 87654, None, 89]}\n",
      "      name   age     note\n",
      "0      ali  12.0    123.0\n",
      "1     veli  34.0    456.0\n",
      "2  zübeyde  56.0     78.0\n",
      "3    ahmet  78.0  87654.0\n",
      "4    kubra   NaN      NaN\n",
      "5      can  12.0     89.0\n"
     ]
    }
   ],
   "source": [
    "dictionary = {\"name\":[\"ali\",\"veli\",\"zübeyde\",\"ahmet\",\"kubra\",\"can\"],\n",
    "             \"age\":[12,34,56,78,None,12],\n",
    "             \"note\":[123,456,78,87654,None,89]}\n",
    "print(dictionary)\n",
    "dataframe1 = pd.DataFrame(dictionary) \n",
    "print(dataframe1)"
   ]
  },
  {
   "cell_type": "code",
   "execution_count": 18,
   "id": "464905b4-7ee9-4d78-9c97-92274262ec00",
   "metadata": {},
   "outputs": [
    {
     "name": "stdout",
     "output_type": "stream",
     "text": [
      "           id diagnosis  radius_mean  texture_mean  perimeter_mean  area_mean  \\\n",
      "0      842302         M        17.99         10.38          122.80     1001.0   \n",
      "1      842517         M        20.57         17.77          132.90     1326.0   \n",
      "2    84300903         M        19.69         21.25          130.00     1203.0   \n",
      "3    84348301         M        11.42         20.38           77.58      386.1   \n",
      "4    84358402         M        20.29         14.34          135.10     1297.0   \n",
      "..        ...       ...          ...           ...             ...        ...   \n",
      "564    926424         M        21.56         22.39          142.00     1479.0   \n",
      "565    926682         M        20.13         28.25          131.20     1261.0   \n",
      "566    926954         M        16.60         28.08          108.30      858.1   \n",
      "567    927241         M        20.60         29.33          140.10     1265.0   \n",
      "568     92751         B         7.76         24.54           47.92      181.0   \n",
      "\n",
      "     smoothness_mean  compactness_mean  concavity_mean  concave points_mean  \\\n",
      "0            0.11840           0.27760         0.30010              0.14710   \n",
      "1            0.08474           0.07864         0.08690              0.07017   \n",
      "2            0.10960           0.15990         0.19740              0.12790   \n",
      "3            0.14250           0.28390         0.24140              0.10520   \n",
      "4            0.10030           0.13280         0.19800              0.10430   \n",
      "..               ...               ...             ...                  ...   \n",
      "564          0.11100           0.11590         0.24390              0.13890   \n",
      "565          0.09780           0.10340         0.14400              0.09791   \n",
      "566          0.08455           0.10230         0.09251              0.05302   \n",
      "567          0.11780           0.27700         0.35140              0.15200   \n",
      "568          0.05263           0.04362         0.00000              0.00000   \n",
      "\n",
      "     ...  texture_worst  perimeter_worst  area_worst  smoothness_worst  \\\n",
      "0    ...          17.33           184.60      2019.0           0.16220   \n",
      "1    ...          23.41           158.80      1956.0           0.12380   \n",
      "2    ...          25.53           152.50      1709.0           0.14440   \n",
      "3    ...          26.50            98.87       567.7           0.20980   \n",
      "4    ...          16.67           152.20      1575.0           0.13740   \n",
      "..   ...            ...              ...         ...               ...   \n",
      "564  ...          26.40           166.10      2027.0           0.14100   \n",
      "565  ...          38.25           155.00      1731.0           0.11660   \n",
      "566  ...          34.12           126.70      1124.0           0.11390   \n",
      "567  ...          39.42           184.60      1821.0           0.16500   \n",
      "568  ...          30.37            59.16       268.6           0.08996   \n",
      "\n",
      "     compactness_worst  concavity_worst  concave points_worst  symmetry_worst  \\\n",
      "0              0.66560           0.7119                0.2654          0.4601   \n",
      "1              0.18660           0.2416                0.1860          0.2750   \n",
      "2              0.42450           0.4504                0.2430          0.3613   \n",
      "3              0.86630           0.6869                0.2575          0.6638   \n",
      "4              0.20500           0.4000                0.1625          0.2364   \n",
      "..                 ...              ...                   ...             ...   \n",
      "564            0.21130           0.4107                0.2216          0.2060   \n",
      "565            0.19220           0.3215                0.1628          0.2572   \n",
      "566            0.30940           0.3403                0.1418          0.2218   \n",
      "567            0.86810           0.9387                0.2650          0.4087   \n",
      "568            0.06444           0.0000                0.0000          0.2871   \n",
      "\n",
      "     fractal_dimension_worst  Unnamed: 32  \n",
      "0                    0.11890          NaN  \n",
      "1                    0.08902          NaN  \n",
      "2                    0.08758          NaN  \n",
      "3                    0.17300          NaN  \n",
      "4                    0.07678          NaN  \n",
      "..                       ...          ...  \n",
      "564                  0.07115          NaN  \n",
      "565                  0.06637          NaN  \n",
      "566                  0.07820          NaN  \n",
      "567                  0.12400          NaN  \n",
      "568                  0.07039          NaN  \n",
      "\n",
      "[569 rows x 33 columns]\n"
     ]
    }
   ],
   "source": [
    "df = pd.read_csv(\"data.csv\")\n",
    "print(df)"
   ]
  },
  {
   "cell_type": "code",
   "execution_count": 28,
   "id": "1dc69179-d6db-444c-aa5c-343a72cc8abf",
   "metadata": {},
   "outputs": [
    {
     "name": "stdout",
     "output_type": "stream",
     "text": [
      "      name   age     note\n",
      "0      ali  12.0    123.0\n",
      "1     veli  34.0    456.0\n",
      "2  zübeyde  56.0     78.0\n",
      "3    ahmet  78.0  87654.0\n",
      "4    kubra   NaN      NaN\n"
     ]
    }
   ],
   "source": [
    "head = dataframe1.head() \n",
    "print(head)"
   ]
  },
  {
   "cell_type": "code",
   "execution_count": 29,
   "id": "472d5eff-c366-46d8-bf68-2137d5713c90",
   "metadata": {},
   "outputs": [
    {
     "name": "stdout",
     "output_type": "stream",
     "text": [
      "      name   age     note\n",
      "1     veli  34.0    456.0\n",
      "2  zübeyde  56.0     78.0\n",
      "3    ahmet  78.0  87654.0\n",
      "4    kubra   NaN      NaN\n",
      "5      can  12.0     89.0\n"
     ]
    }
   ],
   "source": [
    "tail = dataframe1.tail()\n",
    "print(tail)"
   ]
  },
  {
   "cell_type": "code",
   "execution_count": 30,
   "id": "aad7afeb-efc9-40d8-97f2-bc2049e7d393",
   "metadata": {},
   "outputs": [
    {
     "name": "stdout",
     "output_type": "stream",
     "text": [
      "Index(['name', 'age', 'note'], dtype='object')\n"
     ]
    }
   ],
   "source": [
    "print(dataframe1.columns)"
   ]
  },
  {
   "cell_type": "code",
   "execution_count": 31,
   "id": "4f3ad3df-b7ba-42f5-8b54-e0b3699ffc57",
   "metadata": {},
   "outputs": [
    {
     "name": "stdout",
     "output_type": "stream",
     "text": [
      "<class 'pandas.core.frame.DataFrame'>\n",
      "RangeIndex: 6 entries, 0 to 5\n",
      "Data columns (total 3 columns):\n",
      " #   Column  Non-Null Count  Dtype  \n",
      "---  ------  --------------  -----  \n",
      " 0   name    6 non-null      object \n",
      " 1   age     5 non-null      float64\n",
      " 2   note    5 non-null      float64\n",
      "dtypes: float64(2), object(1)\n",
      "memory usage: 276.0+ bytes\n",
      "None\n"
     ]
    }
   ],
   "source": [
    "print(dataframe1.info())"
   ]
  },
  {
   "cell_type": "code",
   "execution_count": 32,
   "id": "166b856f-e3f3-4d57-a272-b69d9a4ead78",
   "metadata": {},
   "outputs": [
    {
     "name": "stdout",
     "output_type": "stream",
     "text": [
      "name     object\n",
      "age     float64\n",
      "note    float64\n",
      "dtype: object\n"
     ]
    }
   ],
   "source": [
    "print(dataframe1.dtypes)"
   ]
  },
  {
   "cell_type": "code",
   "execution_count": 33,
   "id": "38218485-00d8-4407-8716-aeb85ec6ae62",
   "metadata": {},
   "outputs": [
    {
     "name": "stdout",
     "output_type": "stream",
     "text": [
      "             age         note\n",
      "count   5.000000      5.00000\n",
      "mean   38.400000  17680.00000\n",
      "std    28.684491  39116.96814\n",
      "min    12.000000     78.00000\n",
      "25%    12.000000     89.00000\n",
      "50%    34.000000    123.00000\n",
      "75%    56.000000    456.00000\n",
      "max    78.000000  87654.00000\n"
     ]
    }
   ],
   "source": [
    "print(dataframe1.describe())"
   ]
  },
  {
   "cell_type": "code",
   "execution_count": 69,
   "id": "dd5032b5-571b-4208-8278-a53f3c579b6d",
   "metadata": {},
   "outputs": [
    {
     "name": "stdout",
     "output_type": "stream",
     "text": [
      "0        ali\n",
      "1       veli\n",
      "2    zübeyde\n",
      "3      ahmet\n",
      "4      kubra\n",
      "5        can\n",
      "Name: name, dtype: object\n",
      "0    12.0\n",
      "1    34.0\n",
      "2    56.0\n",
      "3    78.0\n",
      "4     NaN\n",
      "5    12.0\n",
      "Name: age, dtype: float64\n",
      "0    12.0\n",
      "1    34.0\n",
      "2    56.0\n",
      "3    78.0\n",
      "Name: age, dtype: float64\n",
      "      name   age     note\n",
      "0      ali  12.0    123.0\n",
      "1     veli  34.0    456.0\n",
      "2  zübeyde  56.0     78.0\n",
      "3    ahmet  78.0  87654.0\n",
      "      name   age     note  new_feature\n",
      "5      can  12.0     89.0            6\n",
      "4    kubra   NaN      NaN            5\n",
      "3    ahmet  78.0  87654.0            4\n",
      "2  zübeyde  56.0     78.0            3\n",
      "1     veli  34.0    456.0            2\n",
      "0      ali  12.0    123.0            1\n"
     ]
    }
   ],
   "source": [
    "print(dataframe1[\"name\"]) \n",
    "print(dataframe1.loc[:, \"age\"])  \n",
    "dataframe1[\"new_feature\"] = [1,2,3,4,5,6] \n",
    "print(dataframe1.loc[:3,\"age\"])\n",
    "print(dataframe1.loc[:3, \"name\":\"note\"])\n",
    "print(dataframe1.loc[::-1])"
   ]
  },
  {
   "cell_type": "code",
   "execution_count": 79,
   "id": "240fa438-cd2e-488f-91de-4d590400fdd2",
   "metadata": {},
   "outputs": [
    {
     "name": "stdout",
     "output_type": "stream",
     "text": [
      "0    1\n",
      "1    2\n",
      "2    3\n",
      "3    4\n",
      "4    5\n",
      "5    6\n",
      "Name: new_feature, dtype: int64\n"
     ]
    }
   ],
   "source": [
    "print(dataframe1.loc[:, \"new_feature\"]) "
   ]
  },
  {
   "cell_type": "code",
   "execution_count": 84,
   "id": "cb12a781-c876-45d8-ba75-79822cd61dba",
   "metadata": {},
   "outputs": [
    {
     "name": "stdout",
     "output_type": "stream",
     "text": [
      "      name     note\n",
      "0      ali    123.0\n",
      "1     veli    456.0\n",
      "2  zübeyde     78.0\n",
      "3    ahmet  87654.0\n"
     ]
    }
   ],
   "source": [
    "print(dataframe1.loc[:3, [\"name\",\"note\"]])"
   ]
  },
  {
   "cell_type": "code",
   "execution_count": 85,
   "id": "1fcdf741-b5c3-4e04-9e7e-d631709bf16c",
   "metadata": {},
   "outputs": [
    {
     "name": "stdout",
     "output_type": "stream",
     "text": [
      "      name   age\n",
      "0      ali  12.0\n",
      "1     veli  34.0\n",
      "2  zübeyde  56.0\n",
      "3    ahmet  78.0\n",
      "4    kubra   NaN\n",
      "5      can  12.0\n"
     ]
    }
   ],
   "source": [
    "print(dataframe1.loc[:,:\"age\"])"
   ]
  },
  {
   "cell_type": "code",
   "execution_count": 86,
   "id": "e43d01cb-c213-41b2-a4ea-1bee77ae3294",
   "metadata": {},
   "outputs": [
    {
     "name": "stdout",
     "output_type": "stream",
     "text": [
      "      note\n",
      "0    123.0\n",
      "1    456.0\n",
      "2     78.0\n",
      "3  87654.0\n",
      "4      NaN\n",
      "5     89.0\n"
     ]
    }
   ],
   "source": [
    "print(dataframe1.iloc[:,[2]])"
   ]
  },
  {
   "cell_type": "code",
   "execution_count": 87,
   "id": "5f9b2de9-5e58-4484-9cef-52eb13df2b59",
   "metadata": {},
   "outputs": [
    {
     "name": "stdout",
     "output_type": "stream",
     "text": [
      "    age   bool\n",
      "0  12.0   True\n",
      "1  34.0   True\n",
      "2  56.0   True\n",
      "3  78.0   True\n",
      "4   NaN  False\n",
      "5  12.0   True\n"
     ]
    }
   ],
   "source": [
    "filtre1 = dataframe1.age>10\n",
    "dataframe1[\"bool\"]= filtre1\n",
    "print(dataframe1.loc[:,[\"age\",\"bool\"]])"
   ]
  },
  {
   "cell_type": "code",
   "execution_count": 88,
   "id": "0c0df716-3fe5-4fb9-8330-e4c146332761",
   "metadata": {},
   "outputs": [
    {
     "data": {
      "text/plain": [
       "pandas.core.series.Series"
      ]
     },
     "execution_count": 88,
     "metadata": {},
     "output_type": "execute_result"
    }
   ],
   "source": [
    "type(filtre1)"
   ]
  },
  {
   "cell_type": "code",
   "execution_count": 89,
   "id": "d8538126-2d3c-4826-8ecb-64a66ae773f4",
   "metadata": {},
   "outputs": [
    {
     "name": "stdout",
     "output_type": "stream",
     "text": [
      "      name   age     note  new_feature  bool\n",
      "0      ali  12.0    123.0            1  True\n",
      "1     veli  34.0    456.0            2  True\n",
      "2  zübeyde  56.0     78.0            3  True\n",
      "3    ahmet  78.0  87654.0            4  True\n",
      "5      can  12.0     89.0            6  True\n"
     ]
    }
   ],
   "source": [
    "filtrelenmis_data= dataframe1[filtre1] \n",
    "print(filtrelenmis_data)"
   ]
  },
  {
   "cell_type": "code",
   "execution_count": 90,
   "id": "32638c61-b7fa-45c3-baac-b3f4bf0a05b6",
   "metadata": {},
   "outputs": [
    {
     "name": "stdout",
     "output_type": "stream",
     "text": [
      "    name   age     note  new_feature  bool\n",
      "0    ali  12.0    123.0            1  True\n",
      "1   veli  34.0    456.0            2  True\n",
      "3  ahmet  78.0  87654.0            4  True\n"
     ]
    }
   ],
   "source": [
    "filtre2 = dataframe1.note>100\n",
    "filtrelenmis_data2 = dataframe1[filtre2&filtre1] \n",
    "print(filtrelenmis_data2)"
   ]
  },
  {
   "cell_type": "code",
   "execution_count": 91,
   "id": "af8cff50-f5a1-462d-b57f-52c214a7930a",
   "metadata": {},
   "outputs": [
    {
     "data": {
      "text/html": [
       "<div>\n",
       "<style scoped>\n",
       "    .dataframe tbody tr th:only-of-type {\n",
       "        vertical-align: middle;\n",
       "    }\n",
       "\n",
       "    .dataframe tbody tr th {\n",
       "        vertical-align: top;\n",
       "    }\n",
       "\n",
       "    .dataframe thead th {\n",
       "        text-align: right;\n",
       "    }\n",
       "</style>\n",
       "<table border=\"1\" class=\"dataframe\">\n",
       "  <thead>\n",
       "    <tr style=\"text-align: right;\">\n",
       "      <th></th>\n",
       "      <th>name</th>\n",
       "      <th>age</th>\n",
       "      <th>note</th>\n",
       "      <th>new_feature</th>\n",
       "      <th>bool</th>\n",
       "    </tr>\n",
       "  </thead>\n",
       "  <tbody>\n",
       "    <tr>\n",
       "      <th>1</th>\n",
       "      <td>veli</td>\n",
       "      <td>34.0</td>\n",
       "      <td>456.0</td>\n",
       "      <td>2</td>\n",
       "      <td>True</td>\n",
       "    </tr>\n",
       "    <tr>\n",
       "      <th>2</th>\n",
       "      <td>zübeyde</td>\n",
       "      <td>56.0</td>\n",
       "      <td>78.0</td>\n",
       "      <td>3</td>\n",
       "      <td>True</td>\n",
       "    </tr>\n",
       "    <tr>\n",
       "      <th>3</th>\n",
       "      <td>ahmet</td>\n",
       "      <td>78.0</td>\n",
       "      <td>87654.0</td>\n",
       "      <td>4</td>\n",
       "      <td>True</td>\n",
       "    </tr>\n",
       "  </tbody>\n",
       "</table>\n",
       "</div>"
      ],
      "text/plain": [
       "      name   age     note  new_feature  bool\n",
       "1     veli  34.0    456.0            2  True\n",
       "2  zübeyde  56.0     78.0            3  True\n",
       "3    ahmet  78.0  87654.0            4  True"
      ]
     },
     "execution_count": 91,
     "metadata": {},
     "output_type": "execute_result"
    }
   ],
   "source": [
    "dataframe1[dataframe1.age>20]"
   ]
  },
  {
   "cell_type": "code",
   "execution_count": 92,
   "id": "9205b290-7d51-44a9-a021-37741d0c5d5e",
   "metadata": {},
   "outputs": [
    {
     "name": "stdout",
     "output_type": "stream",
     "text": [
      "17680.0\n",
      "17680.0\n"
     ]
    }
   ],
   "source": [
    "mean1 = dataframe1.note.mean()\n",
    "print(mean1)\n",
    "mean_np= np.mean(dataframe1.note) \n",
    "print(mean_np)"
   ]
  },
  {
   "cell_type": "code",
   "execution_count": 93,
   "id": "8bb1270c-c871-4ec9-bdb5-ad1d68ecb268",
   "metadata": {},
   "outputs": [
    {
     "data": {
      "text/html": [
       "<div>\n",
       "<style scoped>\n",
       "    .dataframe tbody tr th:only-of-type {\n",
       "        vertical-align: middle;\n",
       "    }\n",
       "\n",
       "    .dataframe tbody tr th {\n",
       "        vertical-align: top;\n",
       "    }\n",
       "\n",
       "    .dataframe thead th {\n",
       "        text-align: right;\n",
       "    }\n",
       "</style>\n",
       "<table border=\"1\" class=\"dataframe\">\n",
       "  <thead>\n",
       "    <tr style=\"text-align: right;\">\n",
       "      <th></th>\n",
       "      <th>name</th>\n",
       "      <th>age</th>\n",
       "      <th>note</th>\n",
       "      <th>new_feature</th>\n",
       "      <th>bool</th>\n",
       "    </tr>\n",
       "  </thead>\n",
       "  <tbody>\n",
       "    <tr>\n",
       "      <th>0</th>\n",
       "      <td>ali</td>\n",
       "      <td>12.0</td>\n",
       "      <td>123.0</td>\n",
       "      <td>1</td>\n",
       "      <td>True</td>\n",
       "    </tr>\n",
       "    <tr>\n",
       "      <th>1</th>\n",
       "      <td>veli</td>\n",
       "      <td>34.0</td>\n",
       "      <td>456.0</td>\n",
       "      <td>2</td>\n",
       "      <td>True</td>\n",
       "    </tr>\n",
       "    <tr>\n",
       "      <th>2</th>\n",
       "      <td>zübeyde</td>\n",
       "      <td>56.0</td>\n",
       "      <td>78.0</td>\n",
       "      <td>3</td>\n",
       "      <td>True</td>\n",
       "    </tr>\n",
       "    <tr>\n",
       "      <th>3</th>\n",
       "      <td>ahmet</td>\n",
       "      <td>78.0</td>\n",
       "      <td>87654.0</td>\n",
       "      <td>4</td>\n",
       "      <td>True</td>\n",
       "    </tr>\n",
       "    <tr>\n",
       "      <th>5</th>\n",
       "      <td>can</td>\n",
       "      <td>12.0</td>\n",
       "      <td>89.0</td>\n",
       "      <td>6</td>\n",
       "      <td>True</td>\n",
       "    </tr>\n",
       "  </tbody>\n",
       "</table>\n",
       "</div>"
      ],
      "text/plain": [
       "      name   age     note  new_feature  bool\n",
       "0      ali  12.0    123.0            1  True\n",
       "1     veli  34.0    456.0            2  True\n",
       "2  zübeyde  56.0     78.0            3  True\n",
       "3    ahmet  78.0  87654.0            4  True\n",
       "5      can  12.0     89.0            6  True"
      ]
     },
     "execution_count": 93,
     "metadata": {},
     "output_type": "execute_result"
    }
   ],
   "source": [
    "dataframe1.dropna(inplace=True) \n",
    "dataframe1"
   ]
  },
  {
   "cell_type": "code",
   "execution_count": 94,
   "id": "238df27f-4e81-419e-add8-43fd573a33bb",
   "metadata": {},
   "outputs": [
    {
     "name": "stdout",
     "output_type": "stream",
     "text": [
      "17680.0\n"
     ]
    },
    {
     "data": {
      "text/html": [
       "<div>\n",
       "<style scoped>\n",
       "    .dataframe tbody tr th:only-of-type {\n",
       "        vertical-align: middle;\n",
       "    }\n",
       "\n",
       "    .dataframe tbody tr th {\n",
       "        vertical-align: top;\n",
       "    }\n",
       "\n",
       "    .dataframe thead th {\n",
       "        text-align: right;\n",
       "    }\n",
       "</style>\n",
       "<table border=\"1\" class=\"dataframe\">\n",
       "  <thead>\n",
       "    <tr style=\"text-align: right;\">\n",
       "      <th></th>\n",
       "      <th>name</th>\n",
       "      <th>age</th>\n",
       "      <th>note</th>\n",
       "      <th>new_feature</th>\n",
       "      <th>bool</th>\n",
       "      <th>mean</th>\n",
       "    </tr>\n",
       "  </thead>\n",
       "  <tbody>\n",
       "    <tr>\n",
       "      <th>0</th>\n",
       "      <td>ali</td>\n",
       "      <td>12.0</td>\n",
       "      <td>123.0</td>\n",
       "      <td>1</td>\n",
       "      <td>True</td>\n",
       "      <td>bad</td>\n",
       "    </tr>\n",
       "    <tr>\n",
       "      <th>1</th>\n",
       "      <td>veli</td>\n",
       "      <td>34.0</td>\n",
       "      <td>456.0</td>\n",
       "      <td>2</td>\n",
       "      <td>True</td>\n",
       "      <td>bad</td>\n",
       "    </tr>\n",
       "    <tr>\n",
       "      <th>2</th>\n",
       "      <td>zübeyde</td>\n",
       "      <td>56.0</td>\n",
       "      <td>78.0</td>\n",
       "      <td>3</td>\n",
       "      <td>True</td>\n",
       "      <td>bad</td>\n",
       "    </tr>\n",
       "    <tr>\n",
       "      <th>3</th>\n",
       "      <td>ahmet</td>\n",
       "      <td>78.0</td>\n",
       "      <td>87654.0</td>\n",
       "      <td>4</td>\n",
       "      <td>True</td>\n",
       "      <td>good</td>\n",
       "    </tr>\n",
       "    <tr>\n",
       "      <th>5</th>\n",
       "      <td>can</td>\n",
       "      <td>12.0</td>\n",
       "      <td>89.0</td>\n",
       "      <td>6</td>\n",
       "      <td>True</td>\n",
       "      <td>bad</td>\n",
       "    </tr>\n",
       "  </tbody>\n",
       "</table>\n",
       "</div>"
      ],
      "text/plain": [
       "      name   age     note  new_feature  bool  mean\n",
       "0      ali  12.0    123.0            1  True   bad\n",
       "1     veli  34.0    456.0            2  True   bad\n",
       "2  zübeyde  56.0     78.0            3  True   bad\n",
       "3    ahmet  78.0  87654.0            4  True  good\n",
       "5      can  12.0     89.0            6  True   bad"
      ]
     },
     "execution_count": 94,
     "metadata": {},
     "output_type": "execute_result"
    }
   ],
   "source": [
    "print(dataframe1.note.mean())\n",
    "dataframe1[\"mean\"]= [\"bad\" if dataframe1.note.mean()>each else \"good\" for each in dataframe1.note]\n",
    "dataframe1"
   ]
  },
  {
   "cell_type": "code",
   "execution_count": 96,
   "id": "3914ad8c-2b63-455b-8df5-b5e82860bf37",
   "metadata": {},
   "outputs": [
    {
     "data": {
      "text/html": [
       "<div>\n",
       "<style scoped>\n",
       "    .dataframe tbody tr th:only-of-type {\n",
       "        vertical-align: middle;\n",
       "    }\n",
       "\n",
       "    .dataframe tbody tr th {\n",
       "        vertical-align: top;\n",
       "    }\n",
       "\n",
       "    .dataframe thead th {\n",
       "        text-align: right;\n",
       "    }\n",
       "</style>\n",
       "<table border=\"1\" class=\"dataframe\">\n",
       "  <thead>\n",
       "    <tr style=\"text-align: right;\">\n",
       "      <th></th>\n",
       "      <th>name</th>\n",
       "      <th>age</th>\n",
       "      <th>note</th>\n",
       "      <th>bool</th>\n",
       "      <th>mean</th>\n",
       "    </tr>\n",
       "  </thead>\n",
       "  <tbody>\n",
       "    <tr>\n",
       "      <th>0</th>\n",
       "      <td>ali</td>\n",
       "      <td>12.0</td>\n",
       "      <td>123.0</td>\n",
       "      <td>True</td>\n",
       "      <td>bad</td>\n",
       "    </tr>\n",
       "    <tr>\n",
       "      <th>1</th>\n",
       "      <td>veli</td>\n",
       "      <td>34.0</td>\n",
       "      <td>456.0</td>\n",
       "      <td>True</td>\n",
       "      <td>bad</td>\n",
       "    </tr>\n",
       "    <tr>\n",
       "      <th>2</th>\n",
       "      <td>zübeyde</td>\n",
       "      <td>56.0</td>\n",
       "      <td>78.0</td>\n",
       "      <td>True</td>\n",
       "      <td>bad</td>\n",
       "    </tr>\n",
       "    <tr>\n",
       "      <th>3</th>\n",
       "      <td>ahmet</td>\n",
       "      <td>78.0</td>\n",
       "      <td>87654.0</td>\n",
       "      <td>True</td>\n",
       "      <td>good</td>\n",
       "    </tr>\n",
       "    <tr>\n",
       "      <th>5</th>\n",
       "      <td>can</td>\n",
       "      <td>12.0</td>\n",
       "      <td>89.0</td>\n",
       "      <td>True</td>\n",
       "      <td>bad</td>\n",
       "    </tr>\n",
       "  </tbody>\n",
       "</table>\n",
       "</div>"
      ],
      "text/plain": [
       "      name   age     note  bool  mean\n",
       "0      ali  12.0    123.0  True   bad\n",
       "1     veli  34.0    456.0  True   bad\n",
       "2  zübeyde  56.0     78.0  True   bad\n",
       "3    ahmet  78.0  87654.0  True  good\n",
       "5      can  12.0     89.0  True   bad"
      ]
     },
     "execution_count": 96,
     "metadata": {},
     "output_type": "execute_result"
    }
   ],
   "source": [
    "dataframe1.drop([\"new_feature\"],axis=1,inplace=True)\n",
    "dataframe1"
   ]
  },
  {
   "cell_type": "code",
   "execution_count": 100,
   "id": "5a23ea43-e5ea-499d-9bbe-0993b4154b5e",
   "metadata": {},
   "outputs": [
    {
     "data": {
      "text/html": [
       "<div>\n",
       "<style scoped>\n",
       "    .dataframe tbody tr th:only-of-type {\n",
       "        vertical-align: middle;\n",
       "    }\n",
       "\n",
       "    .dataframe tbody tr th {\n",
       "        vertical-align: top;\n",
       "    }\n",
       "\n",
       "    .dataframe thead th {\n",
       "        text-align: right;\n",
       "    }\n",
       "</style>\n",
       "<table border=\"1\" class=\"dataframe\">\n",
       "  <thead>\n",
       "    <tr style=\"text-align: right;\">\n",
       "      <th></th>\n",
       "      <th>name</th>\n",
       "      <th>age</th>\n",
       "      <th>note</th>\n",
       "      <th>bool</th>\n",
       "      <th>mean</th>\n",
       "    </tr>\n",
       "  </thead>\n",
       "  <tbody>\n",
       "    <tr>\n",
       "      <th>0</th>\n",
       "      <td>ali</td>\n",
       "      <td>12.0</td>\n",
       "      <td>123.0</td>\n",
       "      <td>True</td>\n",
       "      <td>bad</td>\n",
       "    </tr>\n",
       "    <tr>\n",
       "      <th>1</th>\n",
       "      <td>veli</td>\n",
       "      <td>34.0</td>\n",
       "      <td>456.0</td>\n",
       "      <td>True</td>\n",
       "      <td>bad</td>\n",
       "    </tr>\n",
       "    <tr>\n",
       "      <th>2</th>\n",
       "      <td>zübeyde</td>\n",
       "      <td>56.0</td>\n",
       "      <td>78.0</td>\n",
       "      <td>True</td>\n",
       "      <td>bad</td>\n",
       "    </tr>\n",
       "    <tr>\n",
       "      <th>3</th>\n",
       "      <td>ahmet</td>\n",
       "      <td>78.0</td>\n",
       "      <td>87654.0</td>\n",
       "      <td>True</td>\n",
       "      <td>good</td>\n",
       "    </tr>\n",
       "    <tr>\n",
       "      <th>5</th>\n",
       "      <td>can</td>\n",
       "      <td>12.0</td>\n",
       "      <td>89.0</td>\n",
       "      <td>True</td>\n",
       "      <td>bad</td>\n",
       "    </tr>\n",
       "    <tr>\n",
       "      <th>0</th>\n",
       "      <td>ali</td>\n",
       "      <td>12.0</td>\n",
       "      <td>123.0</td>\n",
       "      <td>True</td>\n",
       "      <td>bad</td>\n",
       "    </tr>\n",
       "    <tr>\n",
       "      <th>1</th>\n",
       "      <td>veli</td>\n",
       "      <td>34.0</td>\n",
       "      <td>456.0</td>\n",
       "      <td>True</td>\n",
       "      <td>bad</td>\n",
       "    </tr>\n",
       "    <tr>\n",
       "      <th>2</th>\n",
       "      <td>zübeyde</td>\n",
       "      <td>56.0</td>\n",
       "      <td>78.0</td>\n",
       "      <td>True</td>\n",
       "      <td>bad</td>\n",
       "    </tr>\n",
       "    <tr>\n",
       "      <th>3</th>\n",
       "      <td>ahmet</td>\n",
       "      <td>78.0</td>\n",
       "      <td>87654.0</td>\n",
       "      <td>True</td>\n",
       "      <td>good</td>\n",
       "    </tr>\n",
       "    <tr>\n",
       "      <th>5</th>\n",
       "      <td>can</td>\n",
       "      <td>12.0</td>\n",
       "      <td>89.0</td>\n",
       "      <td>True</td>\n",
       "      <td>bad</td>\n",
       "    </tr>\n",
       "  </tbody>\n",
       "</table>\n",
       "</div>"
      ],
      "text/plain": [
       "      name   age     note  bool  mean\n",
       "0      ali  12.0    123.0  True   bad\n",
       "1     veli  34.0    456.0  True   bad\n",
       "2  zübeyde  56.0     78.0  True   bad\n",
       "3    ahmet  78.0  87654.0  True  good\n",
       "5      can  12.0     89.0  True   bad\n",
       "0      ali  12.0    123.0  True   bad\n",
       "1     veli  34.0    456.0  True   bad\n",
       "2  zübeyde  56.0     78.0  True   bad\n",
       "3    ahmet  78.0  87654.0  True  good\n",
       "5      can  12.0     89.0  True   bad"
      ]
     },
     "execution_count": 100,
     "metadata": {},
     "output_type": "execute_result"
    }
   ],
   "source": [
    "data1 = dataframe1.head()     \n",
    "data2 = dataframe1.tail()\n",
    "data_concat = pd.concat([data1,data2],axis=0)\n",
    "data_concat"
   ]
  },
  {
   "cell_type": "code",
   "execution_count": 101,
   "id": "32eb2ce4-788d-4751-8896-aec97b139535",
   "metadata": {},
   "outputs": [
    {
     "data": {
      "text/html": [
       "<div>\n",
       "<style scoped>\n",
       "    .dataframe tbody tr th:only-of-type {\n",
       "        vertical-align: middle;\n",
       "    }\n",
       "\n",
       "    .dataframe tbody tr th {\n",
       "        vertical-align: top;\n",
       "    }\n",
       "\n",
       "    .dataframe thead th {\n",
       "        text-align: right;\n",
       "    }\n",
       "</style>\n",
       "<table border=\"1\" class=\"dataframe\">\n",
       "  <thead>\n",
       "    <tr style=\"text-align: right;\">\n",
       "      <th></th>\n",
       "      <th>name</th>\n",
       "      <th>age</th>\n",
       "      <th>note</th>\n",
       "      <th>bool</th>\n",
       "      <th>mean</th>\n",
       "      <th>name</th>\n",
       "      <th>age</th>\n",
       "      <th>note</th>\n",
       "      <th>bool</th>\n",
       "      <th>mean</th>\n",
       "    </tr>\n",
       "  </thead>\n",
       "  <tbody>\n",
       "    <tr>\n",
       "      <th>0</th>\n",
       "      <td>ali</td>\n",
       "      <td>12.0</td>\n",
       "      <td>123.0</td>\n",
       "      <td>True</td>\n",
       "      <td>bad</td>\n",
       "      <td>ali</td>\n",
       "      <td>12.0</td>\n",
       "      <td>123.0</td>\n",
       "      <td>True</td>\n",
       "      <td>bad</td>\n",
       "    </tr>\n",
       "    <tr>\n",
       "      <th>1</th>\n",
       "      <td>veli</td>\n",
       "      <td>34.0</td>\n",
       "      <td>456.0</td>\n",
       "      <td>True</td>\n",
       "      <td>bad</td>\n",
       "      <td>veli</td>\n",
       "      <td>34.0</td>\n",
       "      <td>456.0</td>\n",
       "      <td>True</td>\n",
       "      <td>bad</td>\n",
       "    </tr>\n",
       "    <tr>\n",
       "      <th>2</th>\n",
       "      <td>zübeyde</td>\n",
       "      <td>56.0</td>\n",
       "      <td>78.0</td>\n",
       "      <td>True</td>\n",
       "      <td>bad</td>\n",
       "      <td>zübeyde</td>\n",
       "      <td>56.0</td>\n",
       "      <td>78.0</td>\n",
       "      <td>True</td>\n",
       "      <td>bad</td>\n",
       "    </tr>\n",
       "    <tr>\n",
       "      <th>3</th>\n",
       "      <td>ahmet</td>\n",
       "      <td>78.0</td>\n",
       "      <td>87654.0</td>\n",
       "      <td>True</td>\n",
       "      <td>good</td>\n",
       "      <td>ahmet</td>\n",
       "      <td>78.0</td>\n",
       "      <td>87654.0</td>\n",
       "      <td>True</td>\n",
       "      <td>good</td>\n",
       "    </tr>\n",
       "    <tr>\n",
       "      <th>5</th>\n",
       "      <td>can</td>\n",
       "      <td>12.0</td>\n",
       "      <td>89.0</td>\n",
       "      <td>True</td>\n",
       "      <td>bad</td>\n",
       "      <td>can</td>\n",
       "      <td>12.0</td>\n",
       "      <td>89.0</td>\n",
       "      <td>True</td>\n",
       "      <td>bad</td>\n",
       "    </tr>\n",
       "  </tbody>\n",
       "</table>\n",
       "</div>"
      ],
      "text/plain": [
       "      name   age     note  bool  mean     name   age     note  bool  mean\n",
       "0      ali  12.0    123.0  True   bad      ali  12.0    123.0  True   bad\n",
       "1     veli  34.0    456.0  True   bad     veli  34.0    456.0  True   bad\n",
       "2  zübeyde  56.0     78.0  True   bad  zübeyde  56.0     78.0  True   bad\n",
       "3    ahmet  78.0  87654.0  True  good    ahmet  78.0  87654.0  True  good\n",
       "5      can  12.0     89.0  True   bad      can  12.0     89.0  True   bad"
      ]
     },
     "execution_count": 101,
     "metadata": {},
     "output_type": "execute_result"
    }
   ],
   "source": [
    "data_contact2 = pd.concat([data1,data2],axis=1)\n",
    "data_contact2"
   ]
  },
  {
   "cell_type": "code",
   "execution_count": 103,
   "id": "58489aec-2ddf-46de-aaeb-31ef57dbd5cb",
   "metadata": {},
   "outputs": [
    {
     "data": {
      "text/html": [
       "<div>\n",
       "<style scoped>\n",
       "    .dataframe tbody tr th:only-of-type {\n",
       "        vertical-align: middle;\n",
       "    }\n",
       "\n",
       "    .dataframe tbody tr th {\n",
       "        vertical-align: top;\n",
       "    }\n",
       "\n",
       "    .dataframe thead th {\n",
       "        text-align: right;\n",
       "    }\n",
       "</style>\n",
       "<table border=\"1\" class=\"dataframe\">\n",
       "  <thead>\n",
       "    <tr style=\"text-align: right;\">\n",
       "      <th></th>\n",
       "      <th>name</th>\n",
       "      <th>age</th>\n",
       "      <th>note</th>\n",
       "      <th>bool</th>\n",
       "      <th>mean</th>\n",
       "      <th>new_age</th>\n",
       "    </tr>\n",
       "  </thead>\n",
       "  <tbody>\n",
       "    <tr>\n",
       "      <th>0</th>\n",
       "      <td>ali</td>\n",
       "      <td>12.0</td>\n",
       "      <td>123.0</td>\n",
       "      <td>True</td>\n",
       "      <td>bad</td>\n",
       "      <td>24.0</td>\n",
       "    </tr>\n",
       "    <tr>\n",
       "      <th>1</th>\n",
       "      <td>veli</td>\n",
       "      <td>34.0</td>\n",
       "      <td>456.0</td>\n",
       "      <td>True</td>\n",
       "      <td>bad</td>\n",
       "      <td>68.0</td>\n",
       "    </tr>\n",
       "    <tr>\n",
       "      <th>2</th>\n",
       "      <td>zübeyde</td>\n",
       "      <td>56.0</td>\n",
       "      <td>78.0</td>\n",
       "      <td>True</td>\n",
       "      <td>bad</td>\n",
       "      <td>112.0</td>\n",
       "    </tr>\n",
       "    <tr>\n",
       "      <th>3</th>\n",
       "      <td>ahmet</td>\n",
       "      <td>78.0</td>\n",
       "      <td>87654.0</td>\n",
       "      <td>True</td>\n",
       "      <td>good</td>\n",
       "      <td>156.0</td>\n",
       "    </tr>\n",
       "    <tr>\n",
       "      <th>5</th>\n",
       "      <td>can</td>\n",
       "      <td>12.0</td>\n",
       "      <td>89.0</td>\n",
       "      <td>True</td>\n",
       "      <td>bad</td>\n",
       "      <td>24.0</td>\n",
       "    </tr>\n",
       "  </tbody>\n",
       "</table>\n",
       "</div>"
      ],
      "text/plain": [
       "      name   age     note  bool  mean  new_age\n",
       "0      ali  12.0    123.0  True   bad     24.0\n",
       "1     veli  34.0    456.0  True   bad     68.0\n",
       "2  zübeyde  56.0     78.0  True   bad    112.0\n",
       "3    ahmet  78.0  87654.0  True  good    156.0\n",
       "5      can  12.0     89.0  True   bad     24.0"
      ]
     },
     "execution_count": 103,
     "metadata": {},
     "output_type": "execute_result"
    }
   ],
   "source": [
    "dataframe1[\"new_age\"] = [each*2 for each in dataframe1.age]\n",
    "dataframe1"
   ]
  },
  {
   "cell_type": "code",
   "execution_count": null,
   "id": "96caa2df-8aa1-4929-8268-6889f6b15e3b",
   "metadata": {},
   "outputs": [],
   "source": []
  }
 ],
 "metadata": {
  "kernelspec": {
   "display_name": "Python 3 (ipykernel)",
   "language": "python",
   "name": "python3"
  },
  "language_info": {
   "codemirror_mode": {
    "name": "ipython",
    "version": 3
   },
   "file_extension": ".py",
   "mimetype": "text/x-python",
   "name": "python",
   "nbconvert_exporter": "python",
   "pygments_lexer": "ipython3",
   "version": "3.12.2"
  }
 },
 "nbformat": 4,
 "nbformat_minor": 5
}
