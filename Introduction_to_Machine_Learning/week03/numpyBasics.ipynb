{
 "cells": [
  {
   "cell_type": "code",
   "execution_count": 2,
   "id": "6ac5f805-9c26-415a-b722-a5e23704f4be",
   "metadata": {},
   "outputs": [],
   "source": [
    "import numpy as np"
   ]
  },
  {
   "cell_type": "code",
   "execution_count": 17,
   "id": "30f228df-b913-49f6-8a9e-30812b6cefbd",
   "metadata": {},
   "outputs": [
    {
     "name": "stdout",
     "output_type": "stream",
     "text": [
      "Vector: [ 1  2  3  4  5  6  7  8  9 10 11 12 13 14 15]\n",
      "(15,)\n",
      "[[ 1  2  3  4  5]\n",
      " [ 6  7  8  9 10]\n",
      " [11 12 13 14 15]]\n"
     ]
    }
   ],
   "source": [
    "array2 = np.array([1,2,3,4,5,6,7,8,9,10,11,12,13,14,15])\n",
    "print(\"Vector:\",array2)\n",
    "print(array2.shape)\n",
    "a = array2.reshape(3,5)\n",
    "print(a)"
   ]
  },
  {
   "cell_type": "code",
   "execution_count": 18,
   "id": "01a38444-b203-478c-ae1b-f63feca21e17",
   "metadata": {},
   "outputs": [
    {
     "name": "stdout",
     "output_type": "stream",
     "text": [
      "Shape: (3, 5)\n",
      "Dimentsion: 2\n",
      "Data Type: int64\n",
      "Size 15\n",
      "Type <class 'numpy.ndarray'>\n"
     ]
    }
   ],
   "source": [
    "print(\"Shape:\",a.shape)\n",
    "print(\"Dimentsion:\",a.ndim)\n",
    "print(\"Data Type:\",a.dtype.name)\n",
    "print(\"Size\",a.size)\n",
    "print(\"Type\",type(a))"
   ]
  },
  {
   "cell_type": "code",
   "execution_count": 7,
   "id": "74294bd4-1f84-434c-b25c-b05390053417",
   "metadata": {},
   "outputs": [
    {
     "name": "stdout",
     "output_type": "stream",
     "text": [
      "[5 7 9]\n",
      "[-3 -3 -3]\n",
      "[1 4 9]\n"
     ]
    }
   ],
   "source": [
    "x=np.array([1,2,3])\n",
    "y=np.array([4,5,6])\n",
    "print(x+y)\n",
    "print(x-y)\n",
    "print(x**2)"
   ]
  },
  {
   "cell_type": "code",
   "execution_count": 8,
   "id": "bac47056-7dcd-4c14-934b-c429b2c72e3c",
   "metadata": {},
   "outputs": [
    {
     "name": "stdout",
     "output_type": "stream",
     "text": [
      "[1 2 3]\n",
      "[5 2 3] [5 2 3] [5 2 3]\n"
     ]
    }
   ],
   "source": [
    "a=np.array([1,2,3])\n",
    "d=a.copy()\n",
    "print(d)\n",
    "b=a\n",
    "c=a\n",
    "b[0]=5\n",
    "print(a,b,c)"
   ]
  },
  {
   "cell_type": "code",
   "execution_count": 15,
   "id": "31a4487a-b5e9-4328-afa5-db8e253214b7",
   "metadata": {},
   "outputs": [
    {
     "name": "stdout",
     "output_type": "stream",
     "text": [
      "1\n",
      "[1 2 3 4]\n"
     ]
    }
   ],
   "source": [
    "a=np.array([1,2,3,4,5,6,7])\n",
    "print(a[0])\n",
    "print(a[0:4])"
   ]
  },
  {
   "cell_type": "code",
   "execution_count": 16,
   "id": "987dfa20-65e6-4ab1-99e2-87700bcd50e9",
   "metadata": {},
   "outputs": [
    {
     "name": "stdout",
     "output_type": "stream",
     "text": [
      "[7 6 5 4 3 2 1]\n"
     ]
    }
   ],
   "source": [
    "reverse_array=a[::-1]\n",
    "print(reverse_array)"
   ]
  },
  {
   "cell_type": "code",
   "execution_count": 14,
   "id": "0e2d9919-83cb-4ae5-a485-7203bbcf66a7",
   "metadata": {},
   "outputs": [
    {
     "name": "stdout",
     "output_type": "stream",
     "text": [
      "[[ 1  2  3  4  5]\n",
      " [ 6  7  8  9 10]]\n",
      "7\n",
      "[2 7]\n",
      "[ 6  7  8  9 10]\n",
      "[7 8 9]\n",
      "[ 6  7  8  9 10]\n",
      "[ 5 10]\n"
     ]
    }
   ],
   "source": [
    "b=np.array([[1,2,3,4,5],[6,7,8,9,10]])\n",
    "print(b)\n",
    "print(b[1,1])\n",
    "print(b[:,1])\n",
    "print(b[1,:])\n",
    "print(b[1,1:4])\n",
    "print(b[-1,:])\n",
    "print(b[:,-1])"
   ]
  }
 ],
 "metadata": {
  "kernelspec": {
   "display_name": "Python 3 (ipykernel)",
   "language": "python",
   "name": "python3"
  },
  "language_info": {
   "codemirror_mode": {
    "name": "ipython",
    "version": 3
   },
   "file_extension": ".py",
   "mimetype": "text/x-python",
   "name": "python",
   "nbconvert_exporter": "python",
   "pygments_lexer": "ipython3",
   "version": "3.12.2"
  }
 },
 "nbformat": 4,
 "nbformat_minor": 5
}
